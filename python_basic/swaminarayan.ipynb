{
 "cells": [
  {
   "cell_type": "code",
   "execution_count": 2,
   "id": "d4b98f6a-cc31-4fe7-9f3a-70b51ed4941d",
   "metadata": {},
   "outputs": [
    {
     "name": "stdout",
     "output_type": "stream",
     "text": [
      "jay swaminarayan\n"
     ]
    }
   ],
   "source": [
    "print(\"jay swaminarayan\")"
   ]
  },
  {
   "cell_type": "code",
   "execution_count": null,
   "id": "8762399f-67bf-407a-90c9-12eec67c2441",
   "metadata": {},
   "outputs": [],
   "source": []
  }
 ],
 "metadata": {
  "kernelspec": {
   "display_name": "Python 3 (ipykernel)",
   "language": "python",
   "name": "python3"
  },
  "language_info": {
   "codemirror_mode": {
    "name": "ipython",
    "version": 3
   },
   "file_extension": ".py",
   "mimetype": "text/x-python",
   "name": "python",
   "nbconvert_exporter": "python",
   "pygments_lexer": "ipython3",
   "version": "3.12.4"
  }
 },
 "nbformat": 4,
 "nbformat_minor": 5
}
