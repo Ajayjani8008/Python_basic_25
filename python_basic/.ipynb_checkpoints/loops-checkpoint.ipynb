{
 "cells": [
  {
   "cell_type": "code",
   "execution_count": null,
   "id": "4f9156e0-062d-4236-8371-194d53900217",
   "metadata": {},
   "outputs": [],
   "source": [
    "#  for loops \n",
    "\n",
    "# i is interator \n",
    "# range() : interble\n",
    "\n",
    "for i in range(1,10):\n",
    "    print(i)"
   ]
  },
  {
   "cell_type": "code",
   "execution_count": null,
   "id": "25da4bf1-2f52-475c-9c61-2ae96f075e30",
   "metadata": {},
   "outputs": [],
   "source": [
    "# multiplication table useing  for loop\n",
    "\n",
    "n = int(input(\"Enter the Number which one  you want to get  table : \"))\n",
    "for i in range(1,11):\n",
    "    print(n,\"X\",i,\"=\",n*i)\n",
    "\n"
   ]
  },
  {
   "cell_type": "code",
   "execution_count": null,
   "id": "f66ddc67-b098-4bf0-a29e-887fc8c0a4c7",
   "metadata": {},
   "outputs": [],
   "source": [
    "i = int(input(\"enter no of rows : \"))\n",
    "\n",
    "j = int(input(\"enter  no of column : \"))\n",
    "\n",
    "\n",
    "for row in range(i):\n",
    "    for col in range(j):\n",
    "        print(\"*\",end= \" \")\n",
    "    print(\"\")\n",
    "\n"
   ]
  },
  {
   "cell_type": "code",
   "execution_count": 41,
   "id": "17835696-e26f-4887-817b-5f6407123b3e",
   "metadata": {},
   "outputs": [
    {
     "name": "stdin",
     "output_type": "stream",
     "text": [
      "enter no of rows :  4\n",
      "enter  no of column :  4\n"
     ]
    },
    {
     "name": "stdout",
     "output_type": "stream",
     "text": [
      "*       \n",
      "* *     \n",
      "* * *   \n",
      "* * * * \n"
     ]
    }
   ],
   "source": [
    "i = int(input(\"enter no of rows : \"))\n",
    "\n",
    "j = int(input(\"enter  no of column : \"))\n",
    "\n",
    "\n",
    "for row  in range(i):\n",
    "    for col in range(j):\n",
    "        if(col <= row):\n",
    "            print(\"*\" ,end=\" \")\n",
    "        else:\n",
    "            print(\" \" ,end = \" \")\n",
    "    print(\"\")"
   ]
  },
  {
   "cell_type": "code",
   "execution_count": 49,
   "id": "21ed614e-c39f-4c22-bdcd-9fa4961a90b8",
   "metadata": {},
   "outputs": [
    {
     "name": "stdin",
     "output_type": "stream",
     "text": [
      "Enter the number of the row 5\n"
     ]
    },
    {
     "name": "stdout",
     "output_type": "stream",
     "text": [
      "*****\n",
      "****\n",
      "***\n",
      "**\n",
      "*\n"
     ]
    }
   ],
   "source": [
    "n = int(input(\"Enter the number of the row\"))\n",
    "\n",
    "for row in range(n , 0,-1):\n",
    "   print(\"*\"*row) "
   ]
  },
  {
   "cell_type": "code",
   "execution_count": 54,
   "id": "2764c3b1-ad69-4dad-9fa7-c22b90ea3726",
   "metadata": {},
   "outputs": [
    {
     "name": "stdin",
     "output_type": "stream",
     "text": [
      "Enter the number of rows:  7\n"
     ]
    },
    {
     "name": "stdout",
     "output_type": "stream",
     "text": [
      "______*\n",
      "_____***\n",
      "____*****\n",
      "___*******\n",
      "__*********\n",
      "_***********\n",
      "*************\n"
     ]
    }
   ],
   "source": [
    "n = int(input(\"Enter the number of rows: \"))\n",
    "\n",
    "for i in range(1, n + 1):\n",
    "    print(\"_\" * (n - i) + \"*\" * (2 * i - 1))\n"
   ]
  },
  {
   "cell_type": "code",
   "execution_count": 2,
   "id": "81ef85f7-e79e-4de8-9fea-2c7ec8321af6",
   "metadata": {},
   "outputs": [
    {
     "name": "stdout",
     "output_type": "stream",
     "text": [
      "    *\n",
      "   ***\n",
      "  *****\n",
      " *******\n",
      "*********\n",
      " *******\n",
      "  *****\n",
      "   ***\n",
      "    *\n",
      "****  ****\n",
      "***    ***\n",
      "**      **\n",
      "*        *\n"
     ]
    }
   ],
   "source": [
    "def print_pattern(n, pattern_type):\n",
    "    for i in range(1, n + 1):\n",
    "        if pattern_type == \"pyramid\":\n",
    "            spaces = n - i  # Calculate leading spaces\n",
    "            symbols = 2 * i - 1  # Calculate number of stars\n",
    "            print(\" \" * spaces + \"*\" * symbols)\n",
    "\n",
    "        elif pattern_type == \"right_triangle\":\n",
    "            symbols = i  # Number of stars equals row index\n",
    "            print(\"*\" * symbols)\n",
    "\n",
    "        elif pattern_type == \"inverted_triangle\":\n",
    "            symbols = n - i + 1  # Stars decrease as rows increase\n",
    "            print(\"*\" * symbols)\n",
    "\n",
    "        elif pattern_type == \"diamond\":\n",
    "            # Upper part\n",
    "            spaces = n - i\n",
    "            symbols = 2 * i - 1\n",
    "            print(\" \" * spaces + \"*\" * symbols)\n",
    "        # Lower part\n",
    "        if i == n:  # After last row of upper part\n",
    "            for j in range(n - 1, 0, -1):\n",
    "                spaces = n - j\n",
    "                symbols = 2 * j - 1\n",
    "                print(\" \" * spaces + \"*\" * symbols)\n",
    "\n",
    "        elif pattern_type == \"butterfly\":\n",
    "            # Upper wings\n",
    "            left = i  # Left stars\n",
    "            right = i  # Right stars\n",
    "            middle = 2 * (n - i)  # Spaces between wings\n",
    "            print(\"*\" * left + \" \" * middle + \"*\" * right)\n",
    "        # Lower wings\n",
    "        if i == n:  # After last row of upper wings\n",
    "            for j in range(n - 1, 0, -1):\n",
    "                left = j\n",
    "                right = j\n",
    "                middle = 2 * (n - j)\n",
    "                print(\"*\" * left + \" \" * middle + \"*\" * right)\n",
    "\n",
    "# Example Usage\n",
    "n = 5\n",
    "print_pattern(n, \"pyramid\")  # Change pattern_type to see other patterns\n"
   ]
  },
  {
   "cell_type": "code",
   "execution_count": 3,
   "id": "e3fcef43-1a99-40ac-b05f-09d8caf5b3dd",
   "metadata": {},
   "outputs": [
    {
     "name": "stdin",
     "output_type": "stream",
     "text": [
      "Enter the  pattern size :  5\n"
     ]
    },
    {
     "name": "stdout",
     "output_type": "stream",
     "text": [
      "_ _ _ _ _ * \n",
      "_ _ _ _ * * \n",
      "_ _ _ * * * \n",
      "_ _ * * * * \n",
      "_ * * * * * \n"
     ]
    }
   ],
   "source": [
    "n = int(input(\"Enter the  pattern size : \"))\n",
    "for i  in range(n):\n",
    "    for j in range (i,n):\n",
    "        print(\"_\" ,end=\" \")\n",
    "    for j in range (i+1):\n",
    "        print(\"*\",end=\" \")\n",
    "    print(\"\")"
   ]
  },
  {
   "cell_type": "code",
   "execution_count": 15,
   "id": "1cd05631-2b81-4407-9379-ce0d4377547a",
   "metadata": {},
   "outputs": [
    {
     "name": "stdin",
     "output_type": "stream",
     "text": [
      "Enter the  pattern size :  20\n"
     ]
    },
    {
     "name": "stdout",
     "output_type": "stream",
     "text": [
      "* * * * * * * * * * * * * * * * * * * * \n",
      "_ * * * * * * * * * * * * * * * * * * * \n",
      "_ _ * * * * * * * * * * * * * * * * * * \n",
      "_ _ _ * * * * * * * * * * * * * * * * * \n",
      "_ _ _ _ * * * * * * * * * * * * * * * * \n",
      "_ _ _ _ _ * * * * * * * * * * * * * * * \n",
      "_ _ _ _ _ _ * * * * * * * * * * * * * * \n",
      "_ _ _ _ _ _ _ * * * * * * * * * * * * * \n",
      "_ _ _ _ _ _ _ _ * * * * * * * * * * * * \n",
      "_ _ _ _ _ _ _ _ _ * * * * * * * * * * * \n",
      "_ _ _ _ _ _ _ _ _ _ * * * * * * * * * * \n",
      "_ _ _ _ _ _ _ _ _ _ _ * * * * * * * * * \n",
      "_ _ _ _ _ _ _ _ _ _ _ _ * * * * * * * * \n",
      "_ _ _ _ _ _ _ _ _ _ _ _ _ * * * * * * * \n",
      "_ _ _ _ _ _ _ _ _ _ _ _ _ _ * * * * * * \n",
      "_ _ _ _ _ _ _ _ _ _ _ _ _ _ _ * * * * * \n",
      "_ _ _ _ _ _ _ _ _ _ _ _ _ _ _ _ * * * * \n",
      "_ _ _ _ _ _ _ _ _ _ _ _ _ _ _ _ _ * * * \n",
      "_ _ _ _ _ _ _ _ _ _ _ _ _ _ _ _ _ _ * * \n",
      "_ _ _ _ _ _ _ _ _ _ _ _ _ _ _ _ _ _ _ * \n"
     ]
    }
   ],
   "source": [
    "n = int(input(\"Enter the  pattern size : \"))\n",
    "for i  in range(n):\n",
    "   \n",
    "    for j in range (i):\n",
    "        print(\"_\",end=\" \")\n",
    "    for j in range (i,n):\n",
    "        print(\"*\" ,end=\" \")\n",
    "    print(\"\")"
   ]
  },
  {
   "cell_type": "code",
   "execution_count": 67,
   "id": "5675c865-4f39-4b20-9155-f790dcff6ca8",
   "metadata": {},
   "outputs": [
    {
     "name": "stdin",
     "output_type": "stream",
     "text": [
      "Enter no of row you wan to wish print :  6\n"
     ]
    },
    {
     "name": "stdout",
     "output_type": "stream",
     "text": [
      "            * \n",
      "          * * * \n",
      "        * * * * * \n",
      "      * * * * * * * \n",
      "    * * * * * * * * * \n",
      "  * * * * * * * * * * * \n"
     ]
    }
   ],
   "source": [
    "n = int(input(\"Enter no of row you wan to wish print : \"))\n",
    "\n",
    "for i in range(n):\n",
    "    for j in range(i, n):\n",
    "        print(\" \", end=\" \")\n",
    "    for j in range(i):\n",
    "        print(\"*\", end=\" \")\n",
    "    for j in range(i + 1):\n",
    "        print(\"*\", end=\" \")\n",
    "    print(\"\")"
   ]
  },
  {
   "cell_type": "code",
   "execution_count": 69,
   "id": "51740bce-195c-453a-b79d-f769c4c5652f",
   "metadata": {},
   "outputs": [
    {
     "name": "stdin",
     "output_type": "stream",
     "text": [
      "Enter no of row you wan to wish print :  6\n"
     ]
    },
    {
     "name": "stdout",
     "output_type": "stream",
     "text": [
      "* * * * * * * * * * * \n",
      "  * * * * * * * * * \n",
      "    * * * * * * * \n",
      "      * * * * * \n",
      "        * * * \n",
      "          * \n"
     ]
    }
   ],
   "source": [
    "n = int(input(\"Enter no of row you wan to wish print : \"))\n",
    "for i in range(n):\n",
    "    for j in range (i):\n",
    "        print(\" \",end=\" \")\n",
    "    for j in range (i,n):\n",
    "        print(\"*\",end=\" \")\n",
    "    for j in range(i+1,n):\n",
    "        print(\"*\" ,end=\" \")\n",
    "    print(\"\")"
   ]
  },
  {
   "cell_type": "code",
   "execution_count": null,
   "id": "182c6455-b984-4add-aedc-0dea6123be82",
   "metadata": {},
   "outputs": [],
   "source": []
  }
 ],
 "metadata": {
  "kernelspec": {
   "display_name": "Python 3 (ipykernel)",
   "language": "python",
   "name": "python3"
  },
  "language_info": {
   "codemirror_mode": {
    "name": "ipython",
    "version": 3
   },
   "file_extension": ".py",
   "mimetype": "text/x-python",
   "name": "python",
   "nbconvert_exporter": "python",
   "pygments_lexer": "ipython3",
   "version": "3.12.4"
  }
 },
 "nbformat": 4,
 "nbformat_minor": 5
}
